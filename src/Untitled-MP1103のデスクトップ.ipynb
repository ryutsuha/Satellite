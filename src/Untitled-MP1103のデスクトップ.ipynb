{
 "cells": [
  {
   "cell_type": "code",
   "execution_count": 1,
   "id": "a9b9e09d",
   "metadata": {},
   "outputs": [
    {
     "name": "stdout",
     "output_type": "stream",
     "text": [
      "100000 17.03368330001831\n",
      "200000 52.16992783546448\n",
      "300000 91.71796035766602\n",
      "400000 172.21386575698853\n"
     ]
    }
   ],
   "source": [
    "import time\n",
    "import numpy as np\n",
    "import os\n",
    "import csv\n",
    "import datetime\n",
    "\n",
    "\n",
    "runtime   = time.time()\n",
    "\n",
    "num_of_beam = 8\n",
    "TOTAL_POWER = 5\n",
    "power_list  = []\n",
    "\n",
    "POWER_GRADATION = 32\n",
    "power_width     = TOTAL_POWER / POWER_GRADATION\n",
    "\n",
    "def printlen() :\n",
    "    if len(power_list) > 1 and len(power_list) % 100000 == 0 :\n",
    "        print(len(power_list), time.time() - runtime)\n",
    "\n",
    "def decision_power() :\n",
    "    def dfs(A):\n",
    "\n",
    "        # 数列の長さが num_of_beam に達したら打ち切り\n",
    "        if len(A) == num_of_beam:\n",
    "            # 処理\n",
    "            if sum(A) == TOTAL_POWER :\n",
    "                power_list.append(A.copy())\n",
    "                printlen()\n",
    "            return\n",
    "        \n",
    "        for v in range(POWER_GRADATION+1):\n",
    "            A.append(power_width * v if v != 0 else 0)\n",
    "            dfs(A)\n",
    "            A.pop()\n",
    "\n",
    "    dfs([])\n",
    "\n",
    "    print(len(power_list), time.time() - runtime)\n",
    "    # for _ in power_list :\n",
    "    #     print(_)\n",
    "\n",
    "    return power_list\n",
    "\n",
    "\n",
    "def result_output():\n",
    "\n",
    "    filename = \"database\\\\decision_power_\" + str(POWER_GRADATION) + \"_\" + datetime.datetime.now().strftime(\"%m%d-%H%M%S\") + \".csv\"\n",
    "\n",
    "    with open(filename, 'a', newline='') as f:\n",
    "        writer = csv.writer(f)\n",
    "        writer.writerow(range(num_of_beam))\n",
    "        for _ in power_list :\n",
    "            # print(_)\n",
    "            writer.writerow(_)\n",
    "\n",
    "power_list = decision_power()\n",
    "result_output()\n"
   ]
  },
  {
   "cell_type": "code",
   "execution_count": null,
   "id": "6e428ee8",
   "metadata": {},
   "outputs": [],
   "source": [
    "import time\n",
    "import numpy as np\n",
    "import os\n",
    "import csv\n",
    "import datetime\n",
    "\n",
    "\n",
    "runtime   = time.time()\n",
    "\n",
    "num_of_beam = 8\n",
    "TOTAL_POWER = 5\n",
    "power_list  = []\n",
    "\n",
    "POWER_GRADATION = 16\n",
    "power_width     = TOTAL_POWER / POWER_GRADATION\n",
    "\n",
    "def printlen() :\n",
    "    if len(power_list) > 1 and len(power_list) % 100000 == 0 :\n",
    "        print(len(power_list), time.time() - runtime)\n",
    "\n",
    "def decision_power() :\n",
    "    def dfs(A):\n",
    "\n",
    "        # 数列の長さが num_of_beam に達したら打ち切り\n",
    "        if len(A) == num_of_beam:\n",
    "            # 処理\n",
    "            if sum(A) == TOTAL_POWER :\n",
    "                power_list.append(A.copy())\n",
    "                printlen()\n",
    "            return\n",
    "        \n",
    "        for v in range(POWER_GRADATION+1):\n",
    "            A.append(power_width * v if v != 0 else 0)\n",
    "            dfs(A)\n",
    "            A.pop()\n",
    "\n",
    "    dfs([])\n",
    "\n",
    "    print(len(power_list), time.time() - runtime)\n",
    "    # for _ in power_list :\n",
    "    #     print(_)\n",
    "\n",
    "    return power_list\n",
    "\n",
    "\n",
    "def result_output():\n",
    "\n",
    "    filename = \"database\\\\decision_power_\" + str(POWER_GRADATION) + \"_\" + datetime.datetime.now().strftime(\"%m%d-%H%M%S\") + \".csv\"\n",
    "\n",
    "    with open(filename, 'a', newline='') as f:\n",
    "        writer = csv.writer(f)\n",
    "        writer.writerow(range(num_of_beam))\n",
    "        for _ in power_list :\n",
    "            # print(_)\n",
    "            writer.writerow(_)\n",
    "\n",
    "power_list = decision_power()\n",
    "result_output()\n"
   ]
  },
  {
   "cell_type": "code",
   "execution_count": 1,
   "id": "4cdf43a6",
   "metadata": {},
   "outputs": [
    {
     "name": "stdout",
     "output_type": "stream",
     "text": [
      "666\n"
     ]
    }
   ],
   "source": [
    "def generate_bands():\n",
    "    point_a = list(range(36))\n",
    "    point_b = [[] for _ in range(36)]\n",
    "\n",
    "    for i in point_a:\n",
    "        for j in point_a:\n",
    "            if i + j <= 35:\n",
    "                point_b[i].append(i + j)\n",
    "\n",
    "    bands = []\n",
    "\n",
    "    for i in range(len(point_a)):\n",
    "        for j in range(len(point_b[i])):\n",
    "            band_a = list(range(0, point_a[i]))\n",
    "            band_b = list(range(point_a[i], point_b[i][j]))\n",
    "            band_c = list(range(point_b[i][j], 35))\n",
    "            bands.append((band_a, band_b, band_c))\n",
    "\n",
    "    return bands\n",
    "\n",
    "\n",
    "if __name__ == \"__main__\":\n",
    "    bands = generate_bands()\n",
    "\n",
    "    print(len(bands))\n",
    "\n",
    "    # for idx, (band_a, band_b, band_c) in enumerate(bands):\n",
    "    #     print(idx, band_a, band_b, band_c)"
   ]
  },
  {
   "cell_type": "code",
   "execution_count": 2,
   "id": "0b93fde4",
   "metadata": {},
   "outputs": [
    {
     "name": "stdout",
     "output_type": "stream",
     "text": [
      "[[0], [0], [0], [0], [0], [0], [0], [0], [0], [0]]\n"
     ]
    }
   ],
   "source": [
    "list = [[0]] * 10\n",
    "\n",
    "print(list)"
   ]
  }
 ],
 "metadata": {
  "kernelspec": {
   "display_name": "Python 3 (ipykernel)",
   "language": "python",
   "name": "python3"
  },
  "language_info": {
   "codemirror_mode": {
    "name": "ipython",
    "version": 3
   },
   "file_extension": ".py",
   "mimetype": "text/x-python",
   "name": "python",
   "nbconvert_exporter": "python",
   "pygments_lexer": "ipython3",
   "version": "3.10.8"
  }
 },
 "nbformat": 4,
 "nbformat_minor": 5
}
